{
 "cells": [
  {
   "cell_type": "code",
   "execution_count": 1,
   "id": "8ef42b06",
   "metadata": {},
   "outputs": [],
   "source": [
    "import pandas as pd\n",
    "import numpy as np\n",
    "import matplotlib.pyplot as plt\n",
    "import seaborn as sns"
   ]
  },
  {
   "cell_type": "code",
   "execution_count": 2,
   "id": "28242f6f",
   "metadata": {},
   "outputs": [],
   "source": [
    "%matplotlib inline"
   ]
  },
  {
   "cell_type": "markdown",
   "id": "810a170d",
   "metadata": {},
   "source": [
    "### number 5: Using the pandas read_csv() method, read the GDP dataset into your notebook as a DataFrame called gdp_df. Take a look at the first 6 rows."
   ]
  },
  {
   "cell_type": "code",
   "execution_count": 3,
   "id": "2f639644",
   "metadata": {},
   "outputs": [],
   "source": [
    "gdp_df = pd.read_csv(\"../data/gdp_percapita.csv\", nrows=6869)"
   ]
  },
  {
   "cell_type": "markdown",
   "id": "7763201e",
   "metadata": {},
   "source": [
    "##### tip from Maggie: footnotes begin in row 6869 in this file, add nrows into read_csv code"
   ]
  },
  {
   "cell_type": "code",
   "execution_count": 4,
   "id": "75f03a12",
   "metadata": {},
   "outputs": [
    {
     "name": "stdout",
     "output_type": "stream",
     "text": [
      "  Country or Area  Year        Value  Value Footnotes\n",
      "0     Afghanistan  2019  2065.036398              NaN\n",
      "1     Afghanistan  2018  2033.779002              NaN\n",
      "2     Afghanistan  2017  2058.383832              NaN\n",
      "3     Afghanistan  2016  2057.062164              NaN\n",
      "4     Afghanistan  2015  2068.265904              NaN\n",
      "5     Afghanistan  2014  2102.385234              NaN\n"
     ]
    }
   ],
   "source": [
    "print(gdp_df.head(6))"
   ]
  },
  {
   "cell_type": "markdown",
   "id": "19b357dd",
   "metadata": {},
   "source": [
    "### number 6: Repeat for the internet use dataset. Call this DataFrame internet_df. Take a look at the first six rows."
   ]
  },
  {
   "cell_type": "code",
   "execution_count": 5,
   "id": "bdaab9be",
   "metadata": {},
   "outputs": [],
   "source": [
    "internet_df = pd.read_csv(\"../data/internet_use.csv\", nrows=4496)"
   ]
  },
  {
   "cell_type": "markdown",
   "id": "ea6c65b9",
   "metadata": {},
   "source": [
    "##### from watching classmates in setup demo, know to use nrows to avoid footnote error"
   ]
  },
  {
   "cell_type": "code",
   "execution_count": 6,
   "id": "290dd4ea",
   "metadata": {},
   "outputs": [
    {
     "name": "stdout",
     "output_type": "stream",
     "text": [
      "  Country or Area  Year     Value  Value Footnotes\n",
      "0     Afghanistan  2014  6.390000              NaN\n",
      "1     Afghanistan  2013  5.900000              NaN\n",
      "2     Afghanistan  2012  5.454545              NaN\n",
      "3     Afghanistan  2011  5.000000              NaN\n",
      "4     Afghanistan  2010  4.000000              NaN\n",
      "5     Afghanistan  2009  3.550000              NaN\n"
     ]
    }
   ],
   "source": [
    "print(internet_df.head(6))"
   ]
  },
  {
   "cell_type": "markdown",
   "id": "5e77b81e",
   "metadata": {},
   "source": [
    "### number 7: Look at the shape of each DataFrame - how many rows? How many columns?"
   ]
  },
  {
   "cell_type": "code",
   "execution_count": 7,
   "id": "53fb704b",
   "metadata": {},
   "outputs": [
    {
     "data": {
      "text/plain": [
       "(6869, 4)"
      ]
     },
     "execution_count": 7,
     "metadata": {},
     "output_type": "execute_result"
    }
   ],
   "source": [
    "gdp_df.shape"
   ]
  },
  {
   "cell_type": "code",
   "execution_count": 8,
   "id": "b67557a4",
   "metadata": {},
   "outputs": [
    {
     "data": {
      "text/plain": [
       "(4496, 4)"
      ]
     },
     "execution_count": 8,
     "metadata": {},
     "output_type": "execute_result"
    }
   ],
   "source": [
    "internet_df.shape"
   ]
  },
  {
   "cell_type": "markdown",
   "id": "17b926f5",
   "metadata": {},
   "source": [
    "the GDP table has 6869 rows and 4 columns; \n",
    "the internet table has 4496 rows and 4 columns"
   ]
  },
  {
   "cell_type": "markdown",
   "id": "6deac746",
   "metadata": {},
   "source": [
    "### number 8: Take a look at the datatypes for the columns in each DataFrame."
   ]
  },
  {
   "cell_type": "code",
   "execution_count": 9,
   "id": "a388c795",
   "metadata": {},
   "outputs": [
    {
     "name": "stdout",
     "output_type": "stream",
     "text": [
      "<class 'pandas.core.frame.DataFrame'>\n"
     ]
    }
   ],
   "source": [
    "print(type(gdp_df))"
   ]
  },
  {
   "cell_type": "code",
   "execution_count": 10,
   "id": "329aada0",
   "metadata": {},
   "outputs": [
    {
     "name": "stdout",
     "output_type": "stream",
     "text": [
      "<class 'pandas.core.frame.DataFrame'>\n",
      "RangeIndex: 6869 entries, 0 to 6868\n",
      "Data columns (total 4 columns):\n",
      " #   Column           Non-Null Count  Dtype  \n",
      "---  ------           --------------  -----  \n",
      " 0   Country or Area  6869 non-null   object \n",
      " 1   Year             6869 non-null   object \n",
      " 2   Value            6868 non-null   float64\n",
      " 3   Value Footnotes  1 non-null      float64\n",
      "dtypes: float64(2), object(2)\n",
      "memory usage: 214.8+ KB\n",
      "None\n"
     ]
    }
   ],
   "source": [
    "print(gdp_df.info())"
   ]
  },
  {
   "cell_type": "code",
   "execution_count": 11,
   "id": "0d9a3905",
   "metadata": {},
   "outputs": [
    {
     "name": "stdout",
     "output_type": "stream",
     "text": [
      "<class 'pandas.core.frame.DataFrame'>\n",
      "RangeIndex: 4496 entries, 0 to 4495\n",
      "Data columns (total 4 columns):\n",
      " #   Column           Non-Null Count  Dtype  \n",
      "---  ------           --------------  -----  \n",
      " 0   Country or Area  4496 non-null   object \n",
      " 1   Year             4496 non-null   object \n",
      " 2   Value            4495 non-null   float64\n",
      " 3   Value Footnotes  948 non-null    float64\n",
      "dtypes: float64(2), object(2)\n",
      "memory usage: 140.6+ KB\n",
      "None\n"
     ]
    }
   ],
   "source": [
    "print(internet_df.info())"
   ]
  },
  {
   "cell_type": "markdown",
   "id": "bc84ed76",
   "metadata": {},
   "source": [
    "Both the internet and GDP dataframes have four columns -- the first two of which are object types, and the latter two are float64 types"
   ]
  },
  {
   "cell_type": "markdown",
   "id": "0c088df3",
   "metadata": {},
   "source": [
    "### number 9: Take a look at the last 10 rows of each DataFrame in turn."
   ]
  },
  {
   "cell_type": "code",
   "execution_count": 12,
   "id": "2914360c",
   "metadata": {},
   "outputs": [
    {
     "name": "stdout",
     "output_type": "stream",
     "text": [
      "     Country or Area      Year        Value  Value Footnotes\n",
      "6859        Zimbabwe      1998  3653.920016              NaN\n",
      "6860        Zimbabwe      1997  3580.048793              NaN\n",
      "6861        Zimbabwe      1996  3520.430146              NaN\n",
      "6862        Zimbabwe      1995  3226.413930              NaN\n",
      "6863        Zimbabwe      1994  3263.934978              NaN\n",
      "6864        Zimbabwe      1993  3033.504852              NaN\n",
      "6865        Zimbabwe      1992  3054.889178              NaN\n",
      "6866        Zimbabwe      1991  3426.598094              NaN\n",
      "6867        Zimbabwe      1990  3324.348171              NaN\n",
      "6868   footnoteSeqID  Footnote          NaN              NaN\n"
     ]
    }
   ],
   "source": [
    "print(gdp_df.tail(10))"
   ]
  },
  {
   "cell_type": "code",
   "execution_count": 13,
   "id": "9def23e8",
   "metadata": {},
   "outputs": [
    {
     "name": "stdout",
     "output_type": "stream",
     "text": [
      "     Country or Area      Year     Value  Value Footnotes\n",
      "4486        Zimbabwe      2001  0.799846              NaN\n",
      "4487        Zimbabwe      2000  0.401434              NaN\n",
      "4488        Zimbabwe      1999  0.161676              NaN\n",
      "4489        Zimbabwe      1998  0.081648              NaN\n",
      "4490        Zimbabwe      1997  0.033080              NaN\n",
      "4491        Zimbabwe      1996  0.016790              NaN\n",
      "4492        Zimbabwe      1995  0.007684              NaN\n",
      "4493        Zimbabwe      1994  0.001739              NaN\n",
      "4494        Zimbabwe      1990  0.000000              NaN\n",
      "4495   footnoteSeqID  Footnote       NaN              NaN\n"
     ]
    }
   ],
   "source": [
    "print(internet_df.tail(10))"
   ]
  },
  {
   "cell_type": "markdown",
   "id": "20ac8898",
   "metadata": {},
   "source": [
    "### number 10: Drop the value footnotes column from both DataFrames. Check that this worked as expected."
   ]
  },
  {
   "cell_type": "code",
   "execution_count": 14,
   "id": "3d3f522c",
   "metadata": {},
   "outputs": [],
   "source": [
    "gdp_df_dropped = gdp_df.drop(columns = 'Value Footnotes')"
   ]
  },
  {
   "cell_type": "code",
   "execution_count": 15,
   "id": "3426c973",
   "metadata": {},
   "outputs": [
    {
     "name": "stdout",
     "output_type": "stream",
     "text": [
      "  Country or Area  Year        Value\n",
      "0     Afghanistan  2019  2065.036398\n",
      "1     Afghanistan  2018  2033.779002\n",
      "2     Afghanistan  2017  2058.383832\n",
      "3     Afghanistan  2016  2057.062164\n",
      "4     Afghanistan  2015  2068.265904\n"
     ]
    }
   ],
   "source": [
    "print(gdp_df_dropped.head(5))"
   ]
  },
  {
   "cell_type": "code",
   "execution_count": 16,
   "id": "f9b0a111",
   "metadata": {},
   "outputs": [
    {
     "name": "stdout",
     "output_type": "stream",
     "text": [
      "  Country or Area  Year        Value  Value Footnotes\n",
      "0     Afghanistan  2019  2065.036398              NaN\n",
      "1     Afghanistan  2018  2033.779002              NaN\n",
      "2     Afghanistan  2017  2058.383832              NaN\n",
      "3     Afghanistan  2016  2057.062164              NaN\n",
      "4     Afghanistan  2015  2068.265904              NaN\n"
     ]
    }
   ],
   "source": [
    "print(gdp_df.head(5))"
   ]
  },
  {
   "cell_type": "markdown",
   "id": "34b3b486",
   "metadata": {},
   "source": [
    "##### okay, so... it worked to make a new dataframe that's defined as the dropped dataframe... I'm going to pause and go read more about dropping columns to make sure I'm understanding A) what's happening here and B) what the question wants me to achieve."
   ]
  },
  {
   "cell_type": "markdown",
   "id": "1e57bf53",
   "metadata": {},
   "source": [
    "##### adding a line of markdown so gitbash will let me add this unchanged file because I worked on datacamp all night :)"
   ]
  },
  {
   "cell_type": "code",
   "execution_count": 17,
   "id": "e5324e87",
   "metadata": {},
   "outputs": [],
   "source": [
    "internet_df_dropped = internet_df.drop(columns = 'Value Footnotes')"
   ]
  },
  {
   "cell_type": "code",
   "execution_count": 18,
   "id": "27ebf38b",
   "metadata": {},
   "outputs": [
    {
     "name": "stdout",
     "output_type": "stream",
     "text": [
      "  Country or Area  Year     Value\n",
      "0     Afghanistan  2014  6.390000\n",
      "1     Afghanistan  2013  5.900000\n",
      "2     Afghanistan  2012  5.454545\n",
      "3     Afghanistan  2011  5.000000\n",
      "4     Afghanistan  2010  4.000000\n"
     ]
    }
   ],
   "source": [
    "print(internet_df_dropped.head(5))"
   ]
  },
  {
   "cell_type": "code",
   "execution_count": 19,
   "id": "97343063",
   "metadata": {},
   "outputs": [
    {
     "name": "stdout",
     "output_type": "stream",
     "text": [
      "  Country or Area  Year     Value  Value Footnotes\n",
      "0     Afghanistan  2014  6.390000              NaN\n",
      "1     Afghanistan  2013  5.900000              NaN\n",
      "2     Afghanistan  2012  5.454545              NaN\n",
      "3     Afghanistan  2011  5.000000              NaN\n",
      "4     Afghanistan  2010  4.000000              NaN\n"
     ]
    }
   ],
   "source": [
    "print(internet_df.head(5))"
   ]
  },
  {
   "cell_type": "markdown",
   "id": "a97c4b9a",
   "metadata": {},
   "source": [
    "##### out of an abundance of caution, I'm going to keep all four dataframes -- gdp w/ and w/o drop, internet w/ and w/o drop."
   ]
  },
  {
   "cell_type": "markdown",
   "id": "18412121",
   "metadata": {},
   "source": [
    "### number 11: Change the columns for the GDP Per Capita DataFrame to ‘Country’, ‘Year’, and ‘GDP_Per_Capita’."
   ]
  },
  {
   "cell_type": "markdown",
   "id": "153b3f94",
   "metadata": {},
   "source": [
    "##### addendum to decision to keep all 4 dataframes -- going to rename the _dropped ones to the brief names and rename the undropped ones to _original"
   ]
  },
  {
   "cell_type": "code",
   "execution_count": 20,
   "id": "6ec706f7",
   "metadata": {},
   "outputs": [],
   "source": [
    "gdp_df_original = gdp_df"
   ]
  },
  {
   "cell_type": "code",
   "execution_count": 21,
   "id": "ba7aa587",
   "metadata": {},
   "outputs": [],
   "source": [
    "internet_df_original = internet_df"
   ]
  },
  {
   "cell_type": "code",
   "execution_count": 22,
   "id": "b63d647a",
   "metadata": {},
   "outputs": [],
   "source": [
    "gdp_df = gdp_df_dropped"
   ]
  },
  {
   "cell_type": "code",
   "execution_count": 23,
   "id": "4bc2af58",
   "metadata": {},
   "outputs": [],
   "source": [
    "internet_df = internet_df_dropped"
   ]
  },
  {
   "cell_type": "markdown",
   "id": "a97aa0dc",
   "metadata": {},
   "source": [
    "##### now to rename the columns"
   ]
  },
  {
   "cell_type": "code",
   "execution_count": 24,
   "id": "407ff0ce",
   "metadata": {},
   "outputs": [],
   "source": [
    "gdp_df.rename({'Country or Area' : 'Country', 'Year' : 'Year', 'Value' : 'GDP_Per_Capita'}, axis = 1, inplace = True)"
   ]
  },
  {
   "cell_type": "code",
   "execution_count": 25,
   "id": "c27d5a42",
   "metadata": {},
   "outputs": [
    {
     "name": "stdout",
     "output_type": "stream",
     "text": [
      "       Country  Year  GDP_Per_Capita\n",
      "0  Afghanistan  2019     2065.036398\n",
      "1  Afghanistan  2018     2033.779002\n",
      "2  Afghanistan  2017     2058.383832\n",
      "3  Afghanistan  2016     2057.062164\n",
      "4  Afghanistan  2015     2068.265904\n"
     ]
    }
   ],
   "source": [
    "print(gdp_df.head(5))"
   ]
  },
  {
   "cell_type": "markdown",
   "id": "69cd4132",
   "metadata": {},
   "source": [
    "### number 12: Change the columns for the Internet Users DataFrame to ‘Country’, ‘Year’, and ‘Internet_Users_Pct’."
   ]
  },
  {
   "cell_type": "code",
   "execution_count": 26,
   "id": "728a94e0",
   "metadata": {},
   "outputs": [],
   "source": [
    "internet_df.rename({'Country or Area' : 'Country', 'Year' : 'Year', 'Value' : 'Internet_Users_Pct'}, axis = 1, inplace = True)"
   ]
  },
  {
   "cell_type": "code",
   "execution_count": 27,
   "id": "3b3fae36",
   "metadata": {},
   "outputs": [
    {
     "name": "stdout",
     "output_type": "stream",
     "text": [
      "       Country  Year  Internet_Users_Pct\n",
      "0  Afghanistan  2014            6.390000\n",
      "1  Afghanistan  2013            5.900000\n",
      "2  Afghanistan  2012            5.454545\n",
      "3  Afghanistan  2011            5.000000\n",
      "4  Afghanistan  2010            4.000000\n"
     ]
    }
   ],
   "source": [
    "print(internet_df.head(5))"
   ]
  },
  {
   "cell_type": "markdown",
   "id": "7a4bf942",
   "metadata": {},
   "source": [
    "### number 13: Merge the two DataFrames to one. Merge all rows from each of the two DataFrames. Call the new DataFrame gdp_and_internet_use."
   ]
  },
  {
   "cell_type": "code",
   "execution_count": 28,
   "id": "86e7514d",
   "metadata": {},
   "outputs": [],
   "source": [
    "gdp_and_internet_use = pd.merge(gdp_df, internet_df, on=['Country', 'Year'])"
   ]
  },
  {
   "cell_type": "markdown",
   "id": "4c9722b2",
   "metadata": {},
   "source": [
    "note: this is incorrect, it's redone later, I'm keeping it for posterity"
   ]
  },
  {
   "cell_type": "markdown",
   "id": "c2e47549",
   "metadata": {},
   "source": [
    "### number 14: Look at the first five rows of your new DataFrame to confirm it merged correctly."
   ]
  },
  {
   "cell_type": "code",
   "execution_count": 29,
   "id": "15cabef9",
   "metadata": {},
   "outputs": [
    {
     "name": "stdout",
     "output_type": "stream",
     "text": [
      "       Country  Year  GDP_Per_Capita  Internet_Users_Pct\n",
      "0  Afghanistan  2014     2102.385234            6.390000\n",
      "1  Afghanistan  2013     2116.465454            5.900000\n",
      "2  Afghanistan  2012     2075.491747            5.454545\n",
      "3  Afghanistan  2011     1904.559799            5.000000\n",
      "4  Afghanistan  2010     1957.029338            4.000000\n"
     ]
    }
   ],
   "source": [
    "print(gdp_and_internet_use.head(5))"
   ]
  },
  {
   "cell_type": "markdown",
   "id": "b6bfa1f3",
   "metadata": {},
   "source": [
    "spoiler: I didn't, it is incorrect, it's redone later, I'm keeping it for posterity"
   ]
  },
  {
   "cell_type": "markdown",
   "id": "f3f7915f",
   "metadata": {},
   "source": [
    "### number 15: Look at the last five rows to make sure the data is clean and as expected."
   ]
  },
  {
   "cell_type": "code",
   "execution_count": 30,
   "id": "5fcf1bdd",
   "metadata": {},
   "outputs": [
    {
     "name": "stdout",
     "output_type": "stream",
     "text": [
      "            Country      Year  GDP_Per_Capita  Internet_Users_Pct\n",
      "3454       Zimbabwe      1996     3520.430146            0.016790\n",
      "3455       Zimbabwe      1995     3226.413930            0.007684\n",
      "3456       Zimbabwe      1994     3263.934978            0.001739\n",
      "3457       Zimbabwe      1990     3324.348171            0.000000\n",
      "3458  footnoteSeqID  Footnote             NaN                 NaN\n"
     ]
    }
   ],
   "source": [
    "print(gdp_and_internet_use.tail(5))"
   ]
  },
  {
   "cell_type": "markdown",
   "id": "161a5a29",
   "metadata": {},
   "source": [
    "spoiler: I didn't it is incorrect, it's redone later, I'm keeping it for posterity"
   ]
  },
  {
   "cell_type": "markdown",
   "id": "9f769675",
   "metadata": {},
   "source": [
    "##### based on the next question being about subsetting to only certain years, I'm not entirely concerned about the final row being whacky. I'm a bit torn about the join type -- left, right, inner, outer, etc -- because in theory, since the GDP dataframe has 6,869 rows and the internet dataframe has 4,496, the 3,457 rows in the merged dataframe is both unexpected and perhaps concerning. I imagine it's because there are years of missing data between the two DFs (some years where GDP data is recorded but internet is not, even in countries that are in both DFs, etc), but... should I have done an outer join?"
   ]
  },
  {
   "cell_type": "markdown",
   "id": "82a23ad8",
   "metadata": {},
   "source": [
    "##### hold the phone, the text of question 13 literally says \"Merge all rows\" I'm a silly goose. OKAY OUTER JOIN IT IS -- time to re-do #13 onward"
   ]
  },
  {
   "cell_type": "markdown",
   "id": "86531381",
   "metadata": {},
   "source": [
    "### question 13 TAKE TWO: Merge the two DataFrames to one. Merge all rows from each of the two DataFrames. Call the new DataFrame gdp_and_internet_use."
   ]
  },
  {
   "cell_type": "code",
   "execution_count": 31,
   "id": "42bef43b",
   "metadata": {},
   "outputs": [],
   "source": [
    "gdp_and_internet_use = pd.merge(gdp_df, internet_df, on=['Country', 'Year'], how='outer')"
   ]
  },
  {
   "cell_type": "markdown",
   "id": "8295ebab",
   "metadata": {},
   "source": [
    "### question 14 TAKE TWO: Look at the first five rows of your new DataFrame to confirm it merged correctly."
   ]
  },
  {
   "cell_type": "code",
   "execution_count": 32,
   "id": "e4240de1",
   "metadata": {},
   "outputs": [
    {
     "name": "stdout",
     "output_type": "stream",
     "text": [
      "       Country  Year  GDP_Per_Capita  Internet_Users_Pct\n",
      "0  Afghanistan  2019     2065.036398                 NaN\n",
      "1  Afghanistan  2018     2033.779002                 NaN\n",
      "2  Afghanistan  2017     2058.383832                 NaN\n",
      "3  Afghanistan  2016     2057.062164                 NaN\n",
      "4  Afghanistan  2015     2068.265904                 NaN\n"
     ]
    }
   ],
   "source": [
    "print(gdp_and_internet_use.head(5))"
   ]
  },
  {
   "cell_type": "markdown",
   "id": "e571ccda",
   "metadata": {},
   "source": [
    "### question 15 TAKE TWO: Look at the last five rows to make sure the data is clean and as expected.\n"
   ]
  },
  {
   "cell_type": "code",
   "execution_count": 33,
   "id": "81dbef1a",
   "metadata": {},
   "outputs": [
    {
     "name": "stdout",
     "output_type": "stream",
     "text": [
      "     Country  Year  GDP_Per_Capita  Internet_Users_Pct\n",
      "7901   Yemen  1999             NaN            0.056629\n",
      "7902   Yemen  1998             NaN            0.023323\n",
      "7903   Yemen  1997             NaN            0.015025\n",
      "7904   Yemen  1996             NaN            0.000621\n",
      "7905   Yemen  1990             NaN            0.000000\n"
     ]
    }
   ],
   "source": [
    "print(gdp_and_internet_use.tail(5))"
   ]
  },
  {
   "cell_type": "markdown",
   "id": "4796edcb",
   "metadata": {},
   "source": [
    "##### YAY LOOK AT IT WOW!!! The last row is clean, there's more rows than the So many null values though... I'm going to keep them and assume it's fine. I see .fillna options and whatnot online, but I'll cross that bridge when I get to it. But, also... where is Zimbabwe?"
   ]
  },
  {
   "cell_type": "code",
   "execution_count": 34,
   "id": "b48bff60",
   "metadata": {},
   "outputs": [
    {
     "name": "stdout",
     "output_type": "stream",
     "text": [
      "                    Country  Year  GDP_Per_Capita  Internet_Users_Pct\n",
      "7856               Viet Nam  2002             NaN            1.854999\n",
      "7857               Viet Nam  2001             NaN            1.265651\n",
      "7858               Viet Nam  2000             NaN            0.254248\n",
      "7859               Viet Nam  1999             NaN            0.128927\n",
      "7860               Viet Nam  1998             NaN            0.013079\n",
      "7861               Viet Nam  1997             NaN            0.003982\n",
      "7862               Viet Nam  1996             NaN            0.000135\n",
      "7863               Viet Nam  1990             NaN            0.000000\n",
      "7864  Virgin Islands (U.S.)  2014             NaN           50.070000\n",
      "7865  Virgin Islands (U.S.)  2013             NaN           45.300000\n",
      "7866  Virgin Islands (U.S.)  2012             NaN           40.547900\n",
      "7867  Virgin Islands (U.S.)  2011             NaN           35.600000\n",
      "7868  Virgin Islands (U.S.)  2010             NaN           31.220000\n",
      "7869  Virgin Islands (U.S.)  2009             NaN           27.396510\n",
      "7870  Virgin Islands (U.S.)  2008             NaN           27.361777\n",
      "7871  Virgin Islands (U.S.)  2007             NaN           27.339336\n",
      "7872  Virgin Islands (U.S.)  2006             NaN           27.332611\n",
      "7873  Virgin Islands (U.S.)  2005             NaN           27.344320\n",
      "7874  Virgin Islands (U.S.)  2004             NaN           27.377009\n",
      "7875  Virgin Islands (U.S.)  2003             NaN           27.429073\n",
      "7876  Virgin Islands (U.S.)  2002             NaN           27.494432\n",
      "7877  Virgin Islands (U.S.)  2001             NaN           18.375766\n",
      "7878  Virgin Islands (U.S.)  2000             NaN           13.815081\n",
      "7879  Virgin Islands (U.S.)  1999             NaN           11.074606\n",
      "7880  Virgin Islands (U.S.)  1998             NaN            9.245220\n",
      "7881  Virgin Islands (U.S.)  1997             NaN            6.948369\n",
      "7882  Virgin Islands (U.S.)  1996             NaN            4.647186\n",
      "7883  Virgin Islands (U.S.)  1995             NaN            2.801958\n",
      "7884  Virgin Islands (U.S.)  1994             NaN            0.940645\n",
      "7885  Virgin Islands (U.S.)  1990             NaN            0.000000\n",
      "7886                  Yemen  2014             NaN           22.550000\n",
      "7887                  Yemen  2013             NaN           20.000000\n",
      "7888                  Yemen  2012             NaN           17.446500\n",
      "7889                  Yemen  2011             NaN           14.905000\n",
      "7890                  Yemen  2010             NaN           12.350000\n",
      "7891                  Yemen  2009             NaN            9.960000\n",
      "7892                  Yemen  2008             NaN            6.890000\n",
      "7893                  Yemen  2007             NaN            5.010000\n",
      "7894                  Yemen  2006             NaN            1.247824\n",
      "7895                  Yemen  2005             NaN            1.048598\n",
      "7896                  Yemen  2004             NaN            0.881223\n",
      "7897                  Yemen  2003             NaN            0.604734\n",
      "7898                  Yemen  2002             NaN            0.518796\n",
      "7899                  Yemen  2001             NaN            0.090802\n",
      "7900                  Yemen  2000             NaN            0.082500\n",
      "7901                  Yemen  1999             NaN            0.056629\n",
      "7902                  Yemen  1998             NaN            0.023323\n",
      "7903                  Yemen  1997             NaN            0.015025\n",
      "7904                  Yemen  1996             NaN            0.000621\n",
      "7905                  Yemen  1990             NaN            0.000000\n"
     ]
    }
   ],
   "source": [
    "print(gdp_and_internet_use.tail(50))"
   ]
  },
  {
   "cell_type": "markdown",
   "id": "d9876021",
   "metadata": {},
   "source": [
    "##### So looking at the bottom 5 rows of both dataframes, I was expecting the last row of my merged dataframe to be\n",
    "##### Zimbabwe     ____      1990   ____     3324.348171   ____      0.0000\n",
    "##### but... it's not... and I don't know why"
   ]
  },
  {
   "cell_type": "code",
   "execution_count": 35,
   "id": "35769f55",
   "metadata": {},
   "outputs": [
    {
     "name": "stdout",
     "output_type": "stream",
     "text": [
      "            Country      Year  GDP_Per_Capita\n",
      "6809         Zambia      2018     3521.520144\n",
      "6810         Zambia      2017     3485.005238\n",
      "6811         Zambia      2016     3467.875156\n",
      "6812         Zambia      2015     3443.555206\n",
      "6813         Zambia      2014     3450.046561\n",
      "6814         Zambia      2013     3399.712999\n",
      "6815         Zambia      2012     3339.276135\n",
      "6816         Zambia      2011     3201.289398\n",
      "6817         Zambia      2010     3125.529308\n",
      "6818         Zambia      2009     2917.516220\n",
      "6819         Zambia      2008     2747.438718\n",
      "6820         Zambia      2007     2619.721370\n",
      "6821         Zambia      2006     2483.208778\n",
      "6822         Zambia      2005     2362.901628\n",
      "6823         Zambia      2004     2261.766537\n",
      "6824         Zambia      2003     2168.332619\n",
      "6825         Zambia      2002     2080.196828\n",
      "6826         Zambia      2001     2042.538262\n",
      "6827         Zambia      2000     1990.858609\n",
      "6828         Zambia      1999     1968.215803\n",
      "6829         Zambia      1998     1933.003375\n",
      "6830         Zambia      1997     1994.849503\n",
      "6831         Zambia      1996     1974.616550\n",
      "6832         Zambia      1995     1908.699005\n",
      "6833         Zambia      1994     1902.393940\n",
      "6834         Zambia      1993     2133.263108\n",
      "6835         Zambia      1992     2045.973257\n",
      "6836         Zambia      1991     2133.689042\n",
      "6837         Zambia      1990     2190.182814\n",
      "6838       Zimbabwe      2019     2835.948532\n",
      "6839       Zimbabwe      2018     3130.029501\n",
      "6840       Zimbabwe      2017     3028.245976\n",
      "6841       Zimbabwe      2016     2934.733650\n",
      "6842       Zimbabwe      2015     2958.209004\n",
      "6843       Zimbabwe      2014     2955.240287\n",
      "6844       Zimbabwe      2013     2937.725624\n",
      "6845       Zimbabwe      2012     2932.081336\n",
      "6846       Zimbabwe      2011     2556.278431\n",
      "6847       Zimbabwe      2010     2273.200073\n",
      "6848       Zimbabwe      2009     1925.364381\n",
      "6849       Zimbabwe      2008     1739.242807\n",
      "6850       Zimbabwe      2007     2133.808186\n",
      "6851       Zimbabwe      2006     2233.017549\n",
      "6852       Zimbabwe      2005     2328.176129\n",
      "6853       Zimbabwe      2004     2480.859342\n",
      "6854       Zimbabwe      2003     2642.103627\n",
      "6855       Zimbabwe      2002     3190.506481\n",
      "6856       Zimbabwe      2001     3510.893992\n",
      "6857       Zimbabwe      2000     3473.429801\n",
      "6858       Zimbabwe      1999     3600.849291\n",
      "6859       Zimbabwe      1998     3653.920016\n",
      "6860       Zimbabwe      1997     3580.048793\n",
      "6861       Zimbabwe      1996     3520.430146\n",
      "6862       Zimbabwe      1995     3226.413930\n",
      "6863       Zimbabwe      1994     3263.934978\n",
      "6864       Zimbabwe      1993     3033.504852\n",
      "6865       Zimbabwe      1992     3054.889178\n",
      "6866       Zimbabwe      1991     3426.598094\n",
      "6867       Zimbabwe      1990     3324.348171\n",
      "6868  footnoteSeqID  Footnote             NaN\n",
      "            Country      Year  Internet_Users_Pct\n",
      "4436          Yemen      2009            9.960000\n",
      "4437          Yemen      2008            6.890000\n",
      "4438          Yemen      2007            5.010000\n",
      "4439          Yemen      2006            1.247824\n",
      "4440          Yemen      2005            1.048598\n",
      "4441          Yemen      2004            0.881223\n",
      "4442          Yemen      2003            0.604734\n",
      "4443          Yemen      2002            0.518796\n",
      "4444          Yemen      2001            0.090802\n",
      "4445          Yemen      2000            0.082500\n",
      "4446          Yemen      1999            0.056629\n",
      "4447          Yemen      1998            0.023323\n",
      "4448          Yemen      1997            0.015025\n",
      "4449          Yemen      1996            0.000621\n",
      "4450          Yemen      1990            0.000000\n",
      "4451         Zambia      2014           17.340000\n",
      "4452         Zambia      2013           15.400000\n",
      "4453         Zambia      2012           13.468200\n",
      "4454         Zambia      2011           11.500000\n",
      "4455         Zambia      2010           10.000000\n",
      "4456         Zambia      2009            6.310000\n",
      "4457         Zambia      2008            5.550000\n",
      "4458         Zambia      2007            4.870000\n",
      "4459         Zambia      2006            4.159913\n",
      "4460         Zambia      2005            2.851752\n",
      "4461         Zambia      2004            2.013550\n",
      "4462         Zambia      2003            0.980483\n",
      "4463         Zambia      2002            0.477751\n",
      "4464         Zambia      2001            0.233130\n",
      "4465         Zambia      2000            0.191072\n",
      "4466         Zambia      1999            0.147053\n",
      "4467         Zambia      1998            0.030226\n",
      "4468         Zambia      1997            0.009330\n",
      "4469         Zambia      1996            0.009069\n",
      "4470         Zambia      1995            0.008784\n",
      "4471         Zambia      1994            0.006776\n",
      "4472         Zambia      1990            0.000000\n",
      "4473       Zimbabwe      2014           19.890000\n",
      "4474       Zimbabwe      2013           18.500000\n",
      "4475       Zimbabwe      2012           17.090000\n",
      "4476       Zimbabwe      2011           15.700000\n",
      "4477       Zimbabwe      2010           11.500000\n",
      "4478       Zimbabwe      2009           11.360000\n",
      "4479       Zimbabwe      2008           11.400000\n",
      "4480       Zimbabwe      2007           10.850000\n",
      "4481       Zimbabwe      2006            9.791842\n",
      "4482       Zimbabwe      2005            8.015978\n",
      "4483       Zimbabwe      2004            6.564045\n",
      "4484       Zimbabwe      2003            6.394786\n",
      "4485       Zimbabwe      2002            3.994356\n",
      "4486       Zimbabwe      2001            0.799846\n",
      "4487       Zimbabwe      2000            0.401434\n",
      "4488       Zimbabwe      1999            0.161676\n",
      "4489       Zimbabwe      1998            0.081648\n",
      "4490       Zimbabwe      1997            0.033080\n",
      "4491       Zimbabwe      1996            0.016790\n",
      "4492       Zimbabwe      1995            0.007684\n",
      "4493       Zimbabwe      1994            0.001739\n",
      "4494       Zimbabwe      1990            0.000000\n",
      "4495  footnoteSeqID  Footnote                 NaN\n"
     ]
    }
   ],
   "source": [
    "print(gdp_df.tail(60))\n",
    "print(internet_df.tail(60))"
   ]
  },
  {
   "cell_type": "markdown",
   "id": "b7af5d16",
   "metadata": {},
   "source": [
    "##### okay, so it looks like Zimbabwe and Zambia were both cut off, but Yemen looks complete -- the merged DF has Yemen data from 1990, which is the lowest in the internet usage DF (and I don't think I've seen a year lower than 1990 so it feels promising)"
   ]
  },
  {
   "cell_type": "markdown",
   "id": "f4fcbf80",
   "metadata": {},
   "source": [
    "##### after some research and a quick conference with the instructors, I believe that the order of operations with an outer join is [merge rows with data in both DFs], then [merge rows with data in first DF but NOT the second one], THEN [merge rows with data in second DF but NOT the first one]\n",
    "##### implication: the Zimbabwe ____ 1990 ____ 3324.348171 ____ 0.0000 row is probably somewhere in the middle. I'm going to try to pull out rows where Country = Zimbabwe or Zambia just to make sure they exist, then assume that I have the right merged DF..."
   ]
  },
  {
   "cell_type": "code",
   "execution_count": 36,
   "id": "7e63faec",
   "metadata": {},
   "outputs": [],
   "source": [
    "merge_check = gdp_and_internet_use[gdp_and_internet_use.Country == 'Zimbabwe']"
   ]
  },
  {
   "cell_type": "code",
   "execution_count": 37,
   "id": "5abf6287",
   "metadata": {},
   "outputs": [
    {
     "name": "stdout",
     "output_type": "stream",
     "text": [
      "       Country  Year  GDP_Per_Capita  Internet_Users_Pct\n",
      "6838  Zimbabwe  2019     2835.948532                 NaN\n",
      "6839  Zimbabwe  2018     3130.029501                 NaN\n",
      "6840  Zimbabwe  2017     3028.245976                 NaN\n",
      "6841  Zimbabwe  2016     2934.733650                 NaN\n",
      "6842  Zimbabwe  2015     2958.209004                 NaN\n",
      "6843  Zimbabwe  2014     2955.240287           19.890000\n",
      "6844  Zimbabwe  2013     2937.725624           18.500000\n",
      "6845  Zimbabwe  2012     2932.081336           17.090000\n",
      "6846  Zimbabwe  2011     2556.278431           15.700000\n",
      "6847  Zimbabwe  2010     2273.200073           11.500000\n",
      "6848  Zimbabwe  2009     1925.364381           11.360000\n",
      "6849  Zimbabwe  2008     1739.242807           11.400000\n",
      "6850  Zimbabwe  2007     2133.808186           10.850000\n",
      "6851  Zimbabwe  2006     2233.017549            9.791842\n",
      "6852  Zimbabwe  2005     2328.176129            8.015978\n",
      "6853  Zimbabwe  2004     2480.859342            6.564045\n",
      "6854  Zimbabwe  2003     2642.103627            6.394786\n",
      "6855  Zimbabwe  2002     3190.506481            3.994356\n",
      "6856  Zimbabwe  2001     3510.893992            0.799846\n",
      "6857  Zimbabwe  2000     3473.429801            0.401434\n",
      "6858  Zimbabwe  1999     3600.849291            0.161676\n",
      "6859  Zimbabwe  1998     3653.920016            0.081648\n",
      "6860  Zimbabwe  1997     3580.048793            0.033080\n",
      "6861  Zimbabwe  1996     3520.430146            0.016790\n",
      "6862  Zimbabwe  1995     3226.413930            0.007684\n",
      "6863  Zimbabwe  1994     3263.934978            0.001739\n",
      "6864  Zimbabwe  1993     3033.504852                 NaN\n",
      "6865  Zimbabwe  1992     3054.889178                 NaN\n",
      "6866  Zimbabwe  1991     3426.598094                 NaN\n",
      "6867  Zimbabwe  1990     3324.348171            0.000000\n"
     ]
    }
   ],
   "source": [
    "print(merge_check)"
   ]
  },
  {
   "cell_type": "markdown",
   "id": "7034b59f",
   "metadata": {},
   "source": [
    "##### SUCCESS!!! Moving on."
   ]
  },
  {
   "cell_type": "markdown",
   "id": "cc99b1af",
   "metadata": {},
   "source": [
    "### number 16: Subset the combined DataFrame to keep only the data for 2004, 2009, and 2014. Check that this happened correctly."
   ]
  },
  {
   "cell_type": "code",
   "execution_count": 38,
   "id": "abec2fee",
   "metadata": {},
   "outputs": [],
   "source": [
    "years_df = gdp_and_internet_use[gdp_and_internet_use['Year'].isin(['2004', '2009', '2014'])]"
   ]
  },
  {
   "cell_type": "code",
   "execution_count": 39,
   "id": "2685ed58",
   "metadata": {},
   "outputs": [
    {
     "name": "stdout",
     "output_type": "stream",
     "text": [
      "                    Country  Year  GDP_Per_Capita  Internet_Users_Pct\n",
      "5               Afghanistan  2014     2102.385234            6.390000\n",
      "10              Afghanistan  2009     1758.904043            3.550000\n",
      "15              Afghanistan  2004     1200.278256            0.105809\n",
      "23                  Albania  2014    11623.866679           60.100000\n",
      "28                  Albania  2009    10346.864199           41.200000\n",
      "...                     ...   ...             ...                 ...\n",
      "7869  Virgin Islands (U.S.)  2009             NaN           27.396510\n",
      "7874  Virgin Islands (U.S.)  2004             NaN           27.377009\n",
      "7886                  Yemen  2014             NaN           22.550000\n",
      "7891                  Yemen  2009             NaN            9.960000\n",
      "7896                  Yemen  2004             NaN            0.881223\n",
      "\n",
      "[830 rows x 4 columns]\n"
     ]
    }
   ],
   "source": [
    "print(years_df)"
   ]
  },
  {
   "cell_type": "markdown",
   "id": "7986e944",
   "metadata": {},
   "source": [
    "### number 17: Create three new DataFrames, one for 2004, one for 2009, and one for 2014. Give them meaningful names that aren't too long."
   ]
  },
  {
   "cell_type": "code",
   "execution_count": 40,
   "id": "11111fc0",
   "metadata": {},
   "outputs": [],
   "source": [
    "df_2004 = years_df[years_df.Year == '2004']"
   ]
  },
  {
   "cell_type": "code",
   "execution_count": 41,
   "id": "1e20af8c",
   "metadata": {},
   "outputs": [
    {
     "name": "stdout",
     "output_type": "stream",
     "text": [
      "                    Country  Year  GDP_Per_Capita  Internet_Users_Pct\n",
      "15              Afghanistan  2004     1200.278256            0.105809\n",
      "33                  Albania  2004     7604.838002            2.420388\n",
      "63                  Algeria  2004    10058.435939            4.634475\n",
      "93                   Angola  2004     5593.241537            0.464815\n",
      "123     Antigua and Barbuda  2004    18745.681534           24.266544\n",
      "...                     ...   ...             ...                 ...\n",
      "7772     T.F.Y.R. Macedonia  2004             NaN           24.440000\n",
      "7830              Venezuela  2004             NaN            8.404470\n",
      "7854               Viet Nam  2004             NaN            7.642409\n",
      "7874  Virgin Islands (U.S.)  2004             NaN           27.377009\n",
      "7896                  Yemen  2004             NaN            0.881223\n",
      "\n",
      "[276 rows x 4 columns]\n"
     ]
    }
   ],
   "source": [
    "print(df_2004)"
   ]
  },
  {
   "cell_type": "code",
   "execution_count": 42,
   "id": "7315f640",
   "metadata": {},
   "outputs": [],
   "source": [
    "df_2009 = years_df[years_df.Year == '2009']"
   ]
  },
  {
   "cell_type": "code",
   "execution_count": 43,
   "id": "7aa3e23d",
   "metadata": {},
   "outputs": [
    {
     "name": "stdout",
     "output_type": "stream",
     "text": [
      "                    Country  Year  GDP_Per_Capita  Internet_Users_Pct\n",
      "10              Afghanistan  2009     1758.904043             3.55000\n",
      "28                  Albania  2009    10346.864199            41.20000\n",
      "58                  Algeria  2009    10782.361398            11.23000\n",
      "88                   Angola  2009     7643.493749             6.00000\n",
      "118     Antigua and Barbuda  2009    20046.839017            42.00000\n",
      "...                     ...   ...             ...                 ...\n",
      "7767     T.F.Y.R. Macedonia  2009             NaN            51.77000\n",
      "7825              Venezuela  2009             NaN            32.70000\n",
      "7849               Viet Nam  2009             NaN            26.55000\n",
      "7869  Virgin Islands (U.S.)  2009             NaN            27.39651\n",
      "7891                  Yemen  2009             NaN             9.96000\n",
      "\n",
      "[277 rows x 4 columns]\n"
     ]
    }
   ],
   "source": [
    "print(df_2009)"
   ]
  },
  {
   "cell_type": "code",
   "execution_count": 44,
   "id": "abba1a6e",
   "metadata": {},
   "outputs": [],
   "source": [
    "df_2014 = years_df[years_df.Year == '2014']"
   ]
  },
  {
   "cell_type": "code",
   "execution_count": 45,
   "id": "e143a925",
   "metadata": {},
   "outputs": [
    {
     "name": "stdout",
     "output_type": "stream",
     "text": [
      "                    Country  Year  GDP_Per_Capita  Internet_Users_Pct\n",
      "5               Afghanistan  2014     2102.385234                6.39\n",
      "23                  Albania  2014    11623.866679               60.10\n",
      "53                  Algeria  2014    11512.705405               18.09\n",
      "83                   Angola  2014     8239.828837               21.26\n",
      "113     Antigua and Barbuda  2014    18104.241470               64.00\n",
      "...                     ...   ...             ...                 ...\n",
      "7762     T.F.Y.R. Macedonia  2014             NaN               68.06\n",
      "7820              Venezuela  2014             NaN               57.00\n",
      "7844               Viet Nam  2014             NaN               48.31\n",
      "7864  Virgin Islands (U.S.)  2014             NaN               50.07\n",
      "7886                  Yemen  2014             NaN               22.55\n",
      "\n",
      "[277 rows x 4 columns]\n"
     ]
    }
   ],
   "source": [
    "print(df_2014)"
   ]
  },
  {
   "cell_type": "markdown",
   "id": "d81a48b0",
   "metadata": {},
   "source": [
    "### number 18: Which country had the highest percentage of internet users in 2014? What was the percentage? (Try typing the first 3 letters of your DataFrame name and hitting the tab key for auto-complete options)."
   ]
  },
  {
   "cell_type": "markdown",
   "id": "c15d66f8",
   "metadata": {},
   "source": [
    "##### so my research is showing approximately 10,000 ways to do this, so I may need to try a few... argmax(), df.max(), define the column alone and do column.max, lots of ways... let's try this one first"
   ]
  },
  {
   "cell_type": "code",
   "execution_count": 46,
   "id": "7f3995ca",
   "metadata": {},
   "outputs": [
    {
     "data": {
      "text/html": [
       "<div>\n",
       "<style scoped>\n",
       "    .dataframe tbody tr th:only-of-type {\n",
       "        vertical-align: middle;\n",
       "    }\n",
       "\n",
       "    .dataframe tbody tr th {\n",
       "        vertical-align: top;\n",
       "    }\n",
       "\n",
       "    .dataframe thead th {\n",
       "        text-align: right;\n",
       "    }\n",
       "</style>\n",
       "<table border=\"1\" class=\"dataframe\">\n",
       "  <thead>\n",
       "    <tr style=\"text-align: right;\">\n",
       "      <th></th>\n",
       "      <th>Country</th>\n",
       "      <th>Year</th>\n",
       "      <th>GDP_Per_Capita</th>\n",
       "      <th>Internet_Users_Pct</th>\n",
       "    </tr>\n",
       "  </thead>\n",
       "  <tbody>\n",
       "    <tr>\n",
       "      <th>2625</th>\n",
       "      <td>Iceland</td>\n",
       "      <td>2014</td>\n",
       "      <td>49652.1495</td>\n",
       "      <td>98.16</td>\n",
       "    </tr>\n",
       "  </tbody>\n",
       "</table>\n",
       "</div>"
      ],
      "text/plain": [
       "      Country  Year  GDP_Per_Capita  Internet_Users_Pct\n",
       "2625  Iceland  2014      49652.1495               98.16"
      ]
     },
     "execution_count": 46,
     "metadata": {},
     "output_type": "execute_result"
    }
   ],
   "source": [
    "df_2014[df_2014['Internet_Users_Pct']==df_2014['Internet_Users_Pct'].max()]"
   ]
  },
  {
   "cell_type": "markdown",
   "id": "0cb50d8e",
   "metadata": {},
   "source": [
    "##### I want to do more research and find other ways to do this to make sure this answer is correct, but I think it's exactly what I wanted... but I'll pin it for now!"
   ]
  },
  {
   "cell_type": "markdown",
   "id": "0a15ff2e",
   "metadata": {},
   "source": [
    "Iceland had the highest percentage of internet users in 2014, showing 98.16% usage rates."
   ]
  },
  {
   "cell_type": "markdown",
   "id": "1259a1e6",
   "metadata": {},
   "source": [
    "### number 19: Which country had the lowest percentage of internet users in 2014? What was the percentage?"
   ]
  },
  {
   "cell_type": "code",
   "execution_count": 47,
   "id": "e71e6083",
   "metadata": {},
   "outputs": [
    {
     "data": {
      "text/html": [
       "<div>\n",
       "<style scoped>\n",
       "    .dataframe tbody tr th:only-of-type {\n",
       "        vertical-align: middle;\n",
       "    }\n",
       "\n",
       "    .dataframe tbody tr th {\n",
       "        vertical-align: top;\n",
       "    }\n",
       "\n",
       "    .dataframe thead th {\n",
       "        text-align: right;\n",
       "    }\n",
       "</style>\n",
       "<table border=\"1\" class=\"dataframe\">\n",
       "  <thead>\n",
       "    <tr style=\"text-align: right;\">\n",
       "      <th></th>\n",
       "      <th>Country</th>\n",
       "      <th>Year</th>\n",
       "      <th>GDP_Per_Capita</th>\n",
       "      <th>Internet_Users_Pct</th>\n",
       "    </tr>\n",
       "  </thead>\n",
       "  <tbody>\n",
       "    <tr>\n",
       "      <th>7080</th>\n",
       "      <td>Dem. People's Rep. of Korea</td>\n",
       "      <td>2014</td>\n",
       "      <td>NaN</td>\n",
       "      <td>0.0</td>\n",
       "    </tr>\n",
       "  </tbody>\n",
       "</table>\n",
       "</div>"
      ],
      "text/plain": [
       "                          Country  Year  GDP_Per_Capita  Internet_Users_Pct\n",
       "7080  Dem. People's Rep. of Korea  2014             NaN                 0.0"
      ]
     },
     "execution_count": 47,
     "metadata": {},
     "output_type": "execute_result"
    }
   ],
   "source": [
    "df_2014[df_2014['Internet_Users_Pct']==df_2014['Internet_Users_Pct'].min()]"
   ]
  },
  {
   "cell_type": "markdown",
   "id": "5c7fcbc2",
   "metadata": {},
   "source": [
    "The Democratic People's Republic of Korea had the lowest percentage of internet users in 2014, showing a 0.0% usage rate."
   ]
  },
  {
   "cell_type": "markdown",
   "id": "fcac778d",
   "metadata": {},
   "source": [
    "### number 20: Repeat for 2004 and 2009."
   ]
  },
  {
   "cell_type": "code",
   "execution_count": 48,
   "id": "394a1724",
   "metadata": {},
   "outputs": [
    {
     "data": {
      "text/html": [
       "<div>\n",
       "<style scoped>\n",
       "    .dataframe tbody tr th:only-of-type {\n",
       "        vertical-align: middle;\n",
       "    }\n",
       "\n",
       "    .dataframe tbody tr th {\n",
       "        vertical-align: top;\n",
       "    }\n",
       "\n",
       "    .dataframe thead th {\n",
       "        text-align: right;\n",
       "    }\n",
       "</style>\n",
       "<table border=\"1\" class=\"dataframe\">\n",
       "  <thead>\n",
       "    <tr style=\"text-align: right;\">\n",
       "      <th></th>\n",
       "      <th>Country</th>\n",
       "      <th>Year</th>\n",
       "      <th>GDP_Per_Capita</th>\n",
       "      <th>Internet_Users_Pct</th>\n",
       "    </tr>\n",
       "  </thead>\n",
       "  <tbody>\n",
       "    <tr>\n",
       "      <th>6019</th>\n",
       "      <td>Sweden</td>\n",
       "      <td>2004</td>\n",
       "      <td>44496.023401</td>\n",
       "      <td>83.89</td>\n",
       "    </tr>\n",
       "  </tbody>\n",
       "</table>\n",
       "</div>"
      ],
      "text/plain": [
       "     Country  Year  GDP_Per_Capita  Internet_Users_Pct\n",
       "6019  Sweden  2004    44496.023401               83.89"
      ]
     },
     "execution_count": 48,
     "metadata": {},
     "output_type": "execute_result"
    }
   ],
   "source": [
    "df_2004[df_2004['Internet_Users_Pct']==df_2004['Internet_Users_Pct'].max()]"
   ]
  },
  {
   "cell_type": "code",
   "execution_count": 49,
   "id": "d3c5f643",
   "metadata": {},
   "outputs": [
    {
     "data": {
      "text/html": [
       "<div>\n",
       "<style scoped>\n",
       "    .dataframe tbody tr th:only-of-type {\n",
       "        vertical-align: middle;\n",
       "    }\n",
       "\n",
       "    .dataframe tbody tr th {\n",
       "        vertical-align: top;\n",
       "    }\n",
       "\n",
       "    .dataframe thead th {\n",
       "        text-align: right;\n",
       "    }\n",
       "</style>\n",
       "<table border=\"1\" class=\"dataframe\">\n",
       "  <thead>\n",
       "    <tr style=\"text-align: right;\">\n",
       "      <th></th>\n",
       "      <th>Country</th>\n",
       "      <th>Year</th>\n",
       "      <th>GDP_Per_Capita</th>\n",
       "      <th>Internet_Users_Pct</th>\n",
       "    </tr>\n",
       "  </thead>\n",
       "  <tbody>\n",
       "    <tr>\n",
       "      <th>7089</th>\n",
       "      <td>Dem. People's Rep. of Korea</td>\n",
       "      <td>2004</td>\n",
       "      <td>NaN</td>\n",
       "      <td>0.0</td>\n",
       "    </tr>\n",
       "  </tbody>\n",
       "</table>\n",
       "</div>"
      ],
      "text/plain": [
       "                          Country  Year  GDP_Per_Capita  Internet_Users_Pct\n",
       "7089  Dem. People's Rep. of Korea  2004             NaN                 0.0"
      ]
     },
     "execution_count": 49,
     "metadata": {},
     "output_type": "execute_result"
    }
   ],
   "source": [
    "df_2004[df_2004['Internet_Users_Pct']==df_2004['Internet_Users_Pct'].min()]"
   ]
  },
  {
   "cell_type": "code",
   "execution_count": 50,
   "id": "67f132f8",
   "metadata": {},
   "outputs": [
    {
     "data": {
      "text/html": [
       "<div>\n",
       "<style scoped>\n",
       "    .dataframe tbody tr th:only-of-type {\n",
       "        vertical-align: middle;\n",
       "    }\n",
       "\n",
       "    .dataframe tbody tr th {\n",
       "        vertical-align: top;\n",
       "    }\n",
       "\n",
       "    .dataframe thead th {\n",
       "        text-align: right;\n",
       "    }\n",
       "</style>\n",
       "<table border=\"1\" class=\"dataframe\">\n",
       "  <thead>\n",
       "    <tr style=\"text-align: right;\">\n",
       "      <th></th>\n",
       "      <th>Country</th>\n",
       "      <th>Year</th>\n",
       "      <th>GDP_Per_Capita</th>\n",
       "      <th>Internet_Users_Pct</th>\n",
       "    </tr>\n",
       "  </thead>\n",
       "  <tbody>\n",
       "    <tr>\n",
       "      <th>2630</th>\n",
       "      <td>Iceland</td>\n",
       "      <td>2009</td>\n",
       "      <td>48177.084123</td>\n",
       "      <td>93.0</td>\n",
       "    </tr>\n",
       "  </tbody>\n",
       "</table>\n",
       "</div>"
      ],
      "text/plain": [
       "      Country  Year  GDP_Per_Capita  Internet_Users_Pct\n",
       "2630  Iceland  2009    48177.084123                93.0"
      ]
     },
     "execution_count": 50,
     "metadata": {},
     "output_type": "execute_result"
    }
   ],
   "source": [
    "df_2009[df_2009['Internet_Users_Pct']==df_2009['Internet_Users_Pct'].max()]"
   ]
  },
  {
   "cell_type": "code",
   "execution_count": 51,
   "id": "7d0a3ece",
   "metadata": {},
   "outputs": [
    {
     "data": {
      "text/html": [
       "<div>\n",
       "<style scoped>\n",
       "    .dataframe tbody tr th:only-of-type {\n",
       "        vertical-align: middle;\n",
       "    }\n",
       "\n",
       "    .dataframe tbody tr th {\n",
       "        vertical-align: top;\n",
       "    }\n",
       "\n",
       "    .dataframe thead th {\n",
       "        text-align: right;\n",
       "    }\n",
       "</style>\n",
       "<table border=\"1\" class=\"dataframe\">\n",
       "  <thead>\n",
       "    <tr style=\"text-align: right;\">\n",
       "      <th></th>\n",
       "      <th>Country</th>\n",
       "      <th>Year</th>\n",
       "      <th>GDP_Per_Capita</th>\n",
       "      <th>Internet_Users_Pct</th>\n",
       "    </tr>\n",
       "  </thead>\n",
       "  <tbody>\n",
       "    <tr>\n",
       "      <th>7084</th>\n",
       "      <td>Dem. People's Rep. of Korea</td>\n",
       "      <td>2009</td>\n",
       "      <td>NaN</td>\n",
       "      <td>0.0</td>\n",
       "    </tr>\n",
       "  </tbody>\n",
       "</table>\n",
       "</div>"
      ],
      "text/plain": [
       "                          Country  Year  GDP_Per_Capita  Internet_Users_Pct\n",
       "7084  Dem. People's Rep. of Korea  2009             NaN                 0.0"
      ]
     },
     "execution_count": 51,
     "metadata": {},
     "output_type": "execute_result"
    }
   ],
   "source": [
    "df_2009[df_2009['Internet_Users_Pct']==df_2009['Internet_Users_Pct'].min()]"
   ]
  },
  {
   "cell_type": "markdown",
   "id": "4c99840e",
   "metadata": {},
   "source": [
    "2004: highest percentage - Sweden, 83.89%  |  lowest percentage - The Democratic People's Republic of Korea, 0.0%"
   ]
  },
  {
   "cell_type": "markdown",
   "id": "f8ad7a2c",
   "metadata": {},
   "source": [
    "2009: highest percentage - Iceland, 93.0%  |  lowest percentage - The Democratic People's Republic of Korea, 0.0%"
   ]
  },
  {
   "cell_type": "markdown",
   "id": "d64c4cab",
   "metadata": {},
   "source": [
    "2014: highest percentage - Iceland, 98.16%  |  lowest percentage - The Democratic People's Republic of Korea, 0.0%"
   ]
  },
  {
   "cell_type": "markdown",
   "id": "53373ad1",
   "metadata": {},
   "source": [
    "##### all of this is with the caveat that \"null\" values are not smaller than 0 -- it's possible there are other countries with a 0% internet usage rate, but they have null values, etc. This solution discounts NaN fields."
   ]
  },
  {
   "cell_type": "markdown",
   "id": "872f472e",
   "metadata": {},
   "source": [
    "### number 21: Which country had the highest gdp per capita in 2014? What was the gdp per capita?"
   ]
  },
  {
   "cell_type": "code",
   "execution_count": 52,
   "id": "f2cf24e6",
   "metadata": {},
   "outputs": [
    {
     "data": {
      "text/html": [
       "<div>\n",
       "<style scoped>\n",
       "    .dataframe tbody tr th:only-of-type {\n",
       "        vertical-align: middle;\n",
       "    }\n",
       "\n",
       "    .dataframe tbody tr th {\n",
       "        vertical-align: top;\n",
       "    }\n",
       "\n",
       "    .dataframe thead th {\n",
       "        text-align: right;\n",
       "    }\n",
       "</style>\n",
       "<table border=\"1\" class=\"dataframe\">\n",
       "  <thead>\n",
       "    <tr style=\"text-align: right;\">\n",
       "      <th></th>\n",
       "      <th>Country</th>\n",
       "      <th>Year</th>\n",
       "      <th>GDP_Per_Capita</th>\n",
       "      <th>Internet_Users_Pct</th>\n",
       "    </tr>\n",
       "  </thead>\n",
       "  <tbody>\n",
       "    <tr>\n",
       "      <th>3721</th>\n",
       "      <td>Macao SAR, China</td>\n",
       "      <td>2014</td>\n",
       "      <td>156514.13385</td>\n",
       "      <td>NaN</td>\n",
       "    </tr>\n",
       "  </tbody>\n",
       "</table>\n",
       "</div>"
      ],
      "text/plain": [
       "               Country  Year  GDP_Per_Capita  Internet_Users_Pct\n",
       "3721  Macao SAR, China  2014    156514.13385                 NaN"
      ]
     },
     "execution_count": 52,
     "metadata": {},
     "output_type": "execute_result"
    }
   ],
   "source": [
    "df_2014[df_2014['GDP_Per_Capita']==df_2014['GDP_Per_Capita'].max()]"
   ]
  },
  {
   "cell_type": "markdown",
   "id": "bc4ab323",
   "metadata": {},
   "source": [
    "Macao (a Special Administrative Region of China) had the highest GDP per capita in 2014 at 156,514.13... units per capita."
   ]
  },
  {
   "cell_type": "markdown",
   "id": "f0717019",
   "metadata": {},
   "source": [
    "### number 22: Which country had the lowest gdp per capita in 2014? What was the gdp per capita?"
   ]
  },
  {
   "cell_type": "code",
   "execution_count": 53,
   "id": "2e31873c",
   "metadata": {},
   "outputs": [
    {
     "data": {
      "text/html": [
       "<div>\n",
       "<style scoped>\n",
       "    .dataframe tbody tr th:only-of-type {\n",
       "        vertical-align: middle;\n",
       "    }\n",
       "\n",
       "    .dataframe tbody tr th {\n",
       "        vertical-align: top;\n",
       "    }\n",
       "\n",
       "    .dataframe thead th {\n",
       "        text-align: right;\n",
       "    }\n",
       "</style>\n",
       "<table border=\"1\" class=\"dataframe\">\n",
       "  <thead>\n",
       "    <tr style=\"text-align: right;\">\n",
       "      <th></th>\n",
       "      <th>Country</th>\n",
       "      <th>Year</th>\n",
       "      <th>GDP_Per_Capita</th>\n",
       "      <th>Internet_Users_Pct</th>\n",
       "    </tr>\n",
       "  </thead>\n",
       "  <tbody>\n",
       "    <tr>\n",
       "      <th>1047</th>\n",
       "      <td>Central African Republic</td>\n",
       "      <td>2014</td>\n",
       "      <td>822.610458</td>\n",
       "      <td>NaN</td>\n",
       "    </tr>\n",
       "  </tbody>\n",
       "</table>\n",
       "</div>"
      ],
      "text/plain": [
       "                       Country  Year  GDP_Per_Capita  Internet_Users_Pct\n",
       "1047  Central African Republic  2014      822.610458                 NaN"
      ]
     },
     "execution_count": 53,
     "metadata": {},
     "output_type": "execute_result"
    }
   ],
   "source": [
    "df_2014[df_2014['GDP_Per_Capita']==df_2014['GDP_Per_Capita'].min()]"
   ]
  },
  {
   "cell_type": "markdown",
   "id": "d3a7c9a8",
   "metadata": {},
   "source": [
    "Central African Republic had the lowest GDP per capita in 2014 at 822.61... units per capita."
   ]
  },
  {
   "cell_type": "markdown",
   "id": "61e12910",
   "metadata": {},
   "source": [
    "### number 23: Create some scatterplots:"
   ]
  },
  {
   "cell_type": "markdown",
   "id": "4cb96c66",
   "metadata": {},
   "source": [
    "#### a. 2004 Percent Using the Internet vs GDP Per Capita"
   ]
  },
  {
   "cell_type": "code",
   "execution_count": 54,
   "id": "6757371b",
   "metadata": {},
   "outputs": [
    {
     "data": {
      "image/png": "[encoded data removed]",
      "text/plain": [
       "<Figure size 432x288 with 1 Axes>"
      ]
     },
     "metadata": {
      "needs_background": "light"
     },
     "output_type": "display_data"
    }
   ],
   "source": [
    "xlab = 'Percent Using the Internet'\n",
    "ylab = 'GDP Per Capita (in Units)'\n",
    "title2004 = 'Percent Using the Internet vs GDP Per Capita in 2004'\n",
    "plt.scatter(df_2004['Internet_Users_Pct'],df_2004['GDP_Per_Capita'])\n",
    "plt.xlabel(xlab)\n",
    "plt.ylabel(ylab)\n",
    "plt.title(title2004)\n",
    "plt.show()"
   ]
  },
  {
   "cell_type": "markdown",
   "id": "ec3a2d9d",
   "metadata": {},
   "source": [
    "#### b. 2009 Percent Using the Internet vs GDP Per Capita"
   ]
  },
  {
   "cell_type": "code",
   "execution_count": 55,
   "id": "68ee85a0",
   "metadata": {},
   "outputs": [
    {
     "data": {
      "image/png": "[encoded data removed]",
      "text/plain": [
       "<Figure size 432x288 with 1 Axes>"
      ]
     },
     "metadata": {
      "needs_background": "light"
     },
     "output_type": "display_data"
    }
   ],
   "source": [
    "title2009 = 'Percent Using the Internet vs GDP Per Capita in 2009'\n",
    "plt.scatter(df_2009['Internet_Users_Pct'],df_2009['GDP_Per_Capita'])\n",
    "plt.xlabel(xlab)\n",
    "plt.ylabel(ylab)\n",
    "plt.title(title2009)\n",
    "plt.show()"
   ]
  },
  {
   "cell_type": "markdown",
   "id": "07c32aff",
   "metadata": {},
   "source": [
    "#### c. 2014 Percent Using the Internet vs. GDP Per Capita"
   ]
  },
  {
   "cell_type": "code",
   "execution_count": 56,
   "id": "82dc0585",
   "metadata": {},
   "outputs": [
    {
     "data": {
      "image/png": "[encoded data removed]",
      "text/plain": [
       "<Figure size 432x288 with 1 Axes>"
      ]
     },
     "metadata": {
      "needs_background": "light"
     },
     "output_type": "display_data"
    }
   ],
   "source": [
    "title2014 = 'Percent Using the Internet vs GDP Per Capita in 2014'\n",
    "plt.scatter(df_2014['Internet_Users_Pct'],df_2014['GDP_Per_Capita'])\n",
    "plt.xlabel(xlab)\n",
    "plt.ylabel(ylab)\n",
    "plt.title(title2014)\n",
    "plt.show()"
   ]
  },
  {
   "cell_type": "markdown",
   "id": "386dea35",
   "metadata": {},
   "source": [
    "### number 24: Are there differences across years? What do the plots tell you about any relationship between these two variables? Enter your observations as a markdown cell."
   ]
  },
  {
   "cell_type": "markdown",
   "id": "9dba4d79",
   "metadata": {},
   "source": [
    "All three scatter plots indicate a positive correlation between a country's GDP per capita and the percentage of people who use the internet (the higher the percentage of internet use, the higher the GDP), though the correlation gets stronger as time passes. That said, the general shape of each scatter plot didn't change much year over year. To me, this indicates that internet became more readily available and more accessible as time passed, at a level that may not be particularly closely related to GDP or country wealth."
   ]
  },
  {
   "cell_type": "markdown",
   "id": "eb9a9dd4",
   "metadata": {},
   "source": [
    "### number 25: Look at the distribution of gdp per capita values for 2014. Is it unimodal?"
   ]
  },
  {
   "cell_type": "code",
   "execution_count": 57,
   "id": "1edb777d",
   "metadata": {},
   "outputs": [
    {
     "data": {
      "image/png": "[encoded data removed]",
      "text/plain": [
       "<Figure size 432x288 with 1 Axes>"
      ]
     },
     "metadata": {
      "needs_background": "light"
     },
     "output_type": "display_data"
    }
   ],
   "source": [
    "plt.hist(df_2014['GDP_Per_Capita'])\n",
    "plt.show()"
   ]
  },
  {
   "cell_type": "markdown",
   "id": "c4d66895",
   "metadata": {},
   "source": [
    "The distribution of GDP per capita in 2014 is unimodal, yes."
   ]
  },
  {
   "cell_type": "markdown",
   "id": "f76b01b7",
   "metadata": {},
   "source": [
    "### number 26: Look at the distribution of Internet Use for 2014. Is it unimodal?"
   ]
  },
  {
   "cell_type": "code",
   "execution_count": 58,
   "id": "0624307c",
   "metadata": {},
   "outputs": [
    {
     "data": {
      "image/png": "[encoded data removed]",
      "text/plain": [
       "<Figure size 432x288 with 1 Axes>"
      ]
     },
     "metadata": {
      "needs_background": "light"
     },
     "output_type": "display_data"
    }
   ],
   "source": [
    "plt.hist(df_2014['Internet_Users_Pct'])\n",
    "plt.show()"
   ]
  },
  {
   "cell_type": "markdown",
   "id": "20b3a5fb",
   "metadata": {},
   "source": [
    "The distribution of percentage of internet use in 2014 is not unimodal, no."
   ]
  },
  {
   "cell_type": "markdown",
   "id": "b71c628a",
   "metadata": {},
   "source": [
    "### number 27: What are the top 5 countries in terms of internet use in 2014?"
   ]
  },
  {
   "cell_type": "code",
   "execution_count": 59,
   "id": "ee3adf35",
   "metadata": {},
   "outputs": [
    {
     "data": {
      "text/html": [
       "<div>\n",
       "<style scoped>\n",
       "    .dataframe tbody tr th:only-of-type {\n",
       "        vertical-align: middle;\n",
       "    }\n",
       "\n",
       "    .dataframe tbody tr th {\n",
       "        vertical-align: top;\n",
       "    }\n",
       "\n",
       "    .dataframe thead th {\n",
       "        text-align: right;\n",
       "    }\n",
       "</style>\n",
       "<table border=\"1\" class=\"dataframe\">\n",
       "  <thead>\n",
       "    <tr style=\"text-align: right;\">\n",
       "      <th></th>\n",
       "      <th>Country</th>\n",
       "      <th>Year</th>\n",
       "      <th>GDP_Per_Capita</th>\n",
       "      <th>Internet_Users_Pct</th>\n",
       "    </tr>\n",
       "  </thead>\n",
       "  <tbody>\n",
       "    <tr>\n",
       "      <th>2625</th>\n",
       "      <td>Iceland</td>\n",
       "      <td>2014</td>\n",
       "      <td>49652.149500</td>\n",
       "      <td>98.16</td>\n",
       "    </tr>\n",
       "    <tr>\n",
       "      <th>561</th>\n",
       "      <td>Bermuda</td>\n",
       "      <td>2014</td>\n",
       "      <td>77361.104881</td>\n",
       "      <td>96.80</td>\n",
       "    </tr>\n",
       "    <tr>\n",
       "      <th>4648</th>\n",
       "      <td>Norway</td>\n",
       "      <td>2014</td>\n",
       "      <td>62589.373548</td>\n",
       "      <td>96.30</td>\n",
       "    </tr>\n",
       "    <tr>\n",
       "      <th>1452</th>\n",
       "      <td>Denmark</td>\n",
       "      <td>2014</td>\n",
       "      <td>52214.537753</td>\n",
       "      <td>95.99</td>\n",
       "    </tr>\n",
       "    <tr>\n",
       "      <th>6872</th>\n",
       "      <td>Andorra</td>\n",
       "      <td>2014</td>\n",
       "      <td>NaN</td>\n",
       "      <td>95.90</td>\n",
       "    </tr>\n",
       "  </tbody>\n",
       "</table>\n",
       "</div>"
      ],
      "text/plain": [
       "      Country  Year  GDP_Per_Capita  Internet_Users_Pct\n",
       "2625  Iceland  2014    49652.149500               98.16\n",
       "561   Bermuda  2014    77361.104881               96.80\n",
       "4648   Norway  2014    62589.373548               96.30\n",
       "1452  Denmark  2014    52214.537753               95.99\n",
       "6872  Andorra  2014             NaN               95.90"
      ]
     },
     "execution_count": 59,
     "metadata": {},
     "output_type": "execute_result"
    }
   ],
   "source": [
    "df_2014.nlargest(5, 'Internet_Users_Pct')"
   ]
  },
  {
   "cell_type": "markdown",
   "id": "77e0ddca",
   "metadata": {},
   "source": [
    "The top 5 countries in terms of internet use in 2014, in order from highest downward, are Iceland, Bermuda, Norway, Denmark, and Andorra."
   ]
  },
  {
   "cell_type": "markdown",
   "id": "df47db88",
   "metadata": {},
   "source": [
    "### number 28: Create a DataFrame called top_5_internet from the combined DataFrame that has all three years for the 5 countries that had the greatest 2014 internet usage. You should have 15 rows. Check that this is true."
   ]
  },
  {
   "cell_type": "code",
   "execution_count": 60,
   "id": "bd42c689",
   "metadata": {},
   "outputs": [],
   "source": [
    "top_5 = df_2014.nlargest(5, 'Internet_Users_Pct')"
   ]
  },
  {
   "cell_type": "markdown",
   "id": "881a7ef9",
   "metadata": {},
   "source": [
    "##### the next several rows got scrapped and I found a different way to accomplish this, but I'm keeping this for posterity and learning purposes. I thought the best way to filter the DataFrame based on that condition would be to save the subsetted Country column as a series and/or list, and save a list of the years, and use the two of them to filter as conditions with an & operator... then I realized I was overengineering it and half of that was already accomplished earlier in the script."
   ]
  },
  {
   "cell_type": "code",
   "execution_count": 61,
   "id": "7e524dec",
   "metadata": {},
   "outputs": [],
   "source": [
    "top_5_countries = top_5['Country']"
   ]
  },
  {
   "cell_type": "code",
   "execution_count": 62,
   "id": "31e4bef8",
   "metadata": {},
   "outputs": [
    {
     "name": "stdout",
     "output_type": "stream",
     "text": [
      "2625    Iceland\n",
      "561     Bermuda\n",
      "4648     Norway\n",
      "1452    Denmark\n",
      "6872    Andorra\n",
      "Name: Country, dtype: object\n"
     ]
    }
   ],
   "source": [
    "print(top_5_countries)"
   ]
  },
  {
   "cell_type": "code",
   "execution_count": 63,
   "id": "52b8d186",
   "metadata": {},
   "outputs": [
    {
     "name": "stdout",
     "output_type": "stream",
     "text": [
      "<class 'pandas.core.series.Series'>\n"
     ]
    }
   ],
   "source": [
    "print(type(top_5_countries))"
   ]
  },
  {
   "cell_type": "code",
   "execution_count": 64,
   "id": "4eadf644",
   "metadata": {},
   "outputs": [],
   "source": [
    "years = ['2004','2009','2014']"
   ]
  },
  {
   "cell_type": "code",
   "execution_count": 65,
   "id": "3da71bbe",
   "metadata": {},
   "outputs": [
    {
     "name": "stdout",
     "output_type": "stream",
     "text": [
      "<class 'list'>\n"
     ]
    }
   ],
   "source": [
    "print(type(years))"
   ]
  },
  {
   "cell_type": "markdown",
   "id": "19778e73",
   "metadata": {},
   "source": [
    "##### and this is where I figured it out and realized I could just go back to filtering the DataFrame from question 16 to only have those top 5 countries -- you were working too hard, Abi! "
   ]
  },
  {
   "cell_type": "code",
   "execution_count": 66,
   "id": "9c3b1e62",
   "metadata": {},
   "outputs": [],
   "source": [
    "top_5_internet = years_df[years_df['Country'].isin(top_5['Country'])]"
   ]
  },
  {
   "cell_type": "code",
   "execution_count": 67,
   "id": "a2a3f623",
   "metadata": {},
   "outputs": [
    {
     "name": "stdout",
     "output_type": "stream",
     "text": [
      "      Country  Year  GDP_Per_Capita  Internet_Users_Pct\n",
      "561   Bermuda  2014    77361.104881           96.800000\n",
      "566   Bermuda  2009    89961.982744           83.250000\n",
      "571   Bermuda  2004    90195.811033           60.990867\n",
      "1452  Denmark  2014    52214.537753           95.990000\n",
      "1457  Denmark  2009    50274.075696           86.840000\n",
      "1462  Denmark  2004    50607.628971           80.930000\n",
      "2625  Iceland  2014    49652.149500           98.160000\n",
      "2630  Iceland  2009    48177.084123           93.000000\n",
      "2635  Iceland  2004    45145.545658           83.880000\n",
      "4648   Norway  2014    62589.373548           96.300000\n",
      "4653   Norway  2009    61886.564498           92.080000\n",
      "4658   Norway  2004    60893.410993           77.690000\n",
      "6872  Andorra  2014             NaN           95.900000\n",
      "6877  Andorra  2009             NaN           78.530000\n",
      "6882  Andorra  2004             NaN           26.837954\n"
     ]
    }
   ],
   "source": [
    "print(top_5_internet)"
   ]
  },
  {
   "cell_type": "code",
   "execution_count": 68,
   "id": "4ef5d78f",
   "metadata": {},
   "outputs": [
    {
     "name": "stdout",
     "output_type": "stream",
     "text": [
      "<class 'pandas.core.frame.DataFrame'>\n",
      "Int64Index: 15 entries, 561 to 6882\n",
      "Data columns (total 4 columns):\n",
      " #   Column              Non-Null Count  Dtype  \n",
      "---  ------              --------------  -----  \n",
      " 0   Country             15 non-null     object \n",
      " 1   Year                15 non-null     object \n",
      " 2   GDP_Per_Capita      12 non-null     float64\n",
      " 3   Internet_Users_Pct  15 non-null     float64\n",
      "dtypes: float64(2), object(2)\n",
      "memory usage: 600.0+ bytes\n",
      "None\n"
     ]
    }
   ],
   "source": [
    "print(top_5_internet.info())"
   ]
  },
  {
   "cell_type": "markdown",
   "id": "2dc53315",
   "metadata": {},
   "source": [
    "### number 29: Create a seaborn FacetGrid to show the internet usage trend across the years 2004, 2009, and 2014 for these 5 countries (those with the highest reported internet use in 2014). Which country had the greatest growth between 2004 and 2014?"
   ]
  },
  {
   "cell_type": "markdown",
   "id": "afd2952f",
   "metadata": {},
   "source": [
    "doing a lot of reading about seaborn FacetGrids and my brain is a bit tired so it's not sticking... back at it in the morning :)"
   ]
  },
  {
   "cell_type": "markdown",
   "id": "c340c1e7",
   "metadata": {},
   "source": [
    "##### I heard several classmates in my breakout room last class talking about how they needed to sort the years first for the axes to work, so I'm saving time by remembering to do that first... thanks classmates!!! "
   ]
  },
  {
   "cell_type": "code",
   "execution_count": 69,
   "id": "141cb0fc",
   "metadata": {},
   "outputs": [
    {
     "data": {
      "text/plain": [
       "<seaborn.axisgrid.FacetGrid at 0x1c9de0d4910>"
      ]
     },
     "execution_count": 69,
     "metadata": {},
     "output_type": "execute_result"
    },
    {
     "data": {
      "image/png": "[encoded data removed]",
      "text/plain": [
       "<Figure size 1080x216 with 5 Axes>"
      ]
     },
     "metadata": {
      "needs_background": "light"
     },
     "output_type": "display_data"
    }
   ],
   "source": [
    "top_5_internet_sorted =top_5_internet.sort_values('Year')\n",
    "g = sns.FacetGrid(top_5_internet_sorted, col='Country')\n",
    "g.map(plt.plot,\"Year\",\"Internet_Users_Pct\")"
   ]
  },
  {
   "cell_type": "markdown",
   "id": "cbd85313",
   "metadata": {},
   "source": [
    "Andorra had the biggest growth between 2004 and 2014 -- they went from close to 0% in 2004 to close to 100% in 2014."
   ]
  },
  {
   "cell_type": "markdown",
   "id": "ee1db97e",
   "metadata": {},
   "source": [
    "### Number 30: Repeat the steps above to look at the trend for the 5 countries with the lowest 2014 internet usage. Which country has consistently had the least internet use?"
   ]
  },
  {
   "cell_type": "code",
   "execution_count": 70,
   "id": "8de6b7f7",
   "metadata": {},
   "outputs": [
    {
     "data": {
      "text/html": [
       "<div>\n",
       "<style scoped>\n",
       "    .dataframe tbody tr th:only-of-type {\n",
       "        vertical-align: middle;\n",
       "    }\n",
       "\n",
       "    .dataframe tbody tr th {\n",
       "        vertical-align: top;\n",
       "    }\n",
       "\n",
       "    .dataframe thead th {\n",
       "        text-align: right;\n",
       "    }\n",
       "</style>\n",
       "<table border=\"1\" class=\"dataframe\">\n",
       "  <thead>\n",
       "    <tr style=\"text-align: right;\">\n",
       "      <th></th>\n",
       "      <th>Country</th>\n",
       "      <th>Year</th>\n",
       "      <th>GDP_Per_Capita</th>\n",
       "      <th>Internet_Users_Pct</th>\n",
       "    </tr>\n",
       "  </thead>\n",
       "  <tbody>\n",
       "    <tr>\n",
       "      <th>7080</th>\n",
       "      <td>Dem. People's Rep. of Korea</td>\n",
       "      <td>2014</td>\n",
       "      <td>NaN</td>\n",
       "      <td>0.00</td>\n",
       "    </tr>\n",
       "    <tr>\n",
       "      <th>7138</th>\n",
       "      <td>Eritrea</td>\n",
       "      <td>2014</td>\n",
       "      <td>NaN</td>\n",
       "      <td>0.99</td>\n",
       "    </tr>\n",
       "    <tr>\n",
       "      <th>6219</th>\n",
       "      <td>Timor-Leste</td>\n",
       "      <td>2014</td>\n",
       "      <td>3264.568070</td>\n",
       "      <td>1.14</td>\n",
       "    </tr>\n",
       "    <tr>\n",
       "      <th>827</th>\n",
       "      <td>Burundi</td>\n",
       "      <td>2014</td>\n",
       "      <td>886.235777</td>\n",
       "      <td>1.38</td>\n",
       "    </tr>\n",
       "    <tr>\n",
       "      <th>7675</th>\n",
       "      <td>Somalia</td>\n",
       "      <td>2014</td>\n",
       "      <td>NaN</td>\n",
       "      <td>1.63</td>\n",
       "    </tr>\n",
       "  </tbody>\n",
       "</table>\n",
       "</div>"
      ],
      "text/plain": [
       "                          Country  Year  GDP_Per_Capita  Internet_Users_Pct\n",
       "7080  Dem. People's Rep. of Korea  2014             NaN                0.00\n",
       "7138                      Eritrea  2014             NaN                0.99\n",
       "6219                  Timor-Leste  2014     3264.568070                1.14\n",
       "827                       Burundi  2014      886.235777                1.38\n",
       "7675                      Somalia  2014             NaN                1.63"
      ]
     },
     "execution_count": 70,
     "metadata": {},
     "output_type": "execute_result"
    }
   ],
   "source": [
    "df_2014.nsmallest(5, 'Internet_Users_Pct')"
   ]
  },
  {
   "cell_type": "code",
   "execution_count": 71,
   "id": "e023e5e3",
   "metadata": {},
   "outputs": [],
   "source": [
    "bottom_5 = df_2014.nsmallest(5, 'Internet_Users_Pct')"
   ]
  },
  {
   "cell_type": "code",
   "execution_count": 72,
   "id": "a680bf34",
   "metadata": {},
   "outputs": [],
   "source": [
    "bottom_5_internet = years_df[years_df['Country'].isin(bottom_5['Country'])]"
   ]
  },
  {
   "cell_type": "code",
   "execution_count": 73,
   "id": "d71a736b",
   "metadata": {},
   "outputs": [
    {
     "data": {
      "text/plain": [
       "<seaborn.axisgrid.FacetGrid at 0x1c9de2a5bb0>"
      ]
     },
     "execution_count": 73,
     "metadata": {},
     "output_type": "execute_result"
    },
    {
     "data": {
      "image/png": "[encoded data removed]",
      "text/plain": [
       "<Figure size 1080x216 with 5 Axes>"
      ]
     },
     "metadata": {
      "needs_background": "light"
     },
     "output_type": "display_data"
    }
   ],
   "source": [
    "bottom_5_internet_sorted = bottom_5_internet.sort_values('Year')\n",
    "g = sns.FacetGrid(bottom_5_internet_sorted, col='Country')\n",
    "g.map(plt.plot,\"Year\",\"Internet_Users_Pct\")"
   ]
  },
  {
   "cell_type": "markdown",
   "id": "b15ee08e",
   "metadata": {},
   "source": [
    "Democratic People's Republic of Korea has had 0% internet usage across all three years."
   ]
  },
  {
   "cell_type": "markdown",
   "id": "05821106",
   "metadata": {},
   "source": [
    "### Number 31: Find the top 5 countries for 2014 in terms of GDP per capita; create a DataFrame to look at 10-year trends (use 2004, 2009, 2014 to look at the 10-year trend) in gdp per capita for the 5 countries with the highest 2014 GDP per capita. Use a seaborn facet grid for this."
   ]
  },
  {
   "cell_type": "code",
   "execution_count": 75,
   "id": "c173bc78",
   "metadata": {},
   "outputs": [],
   "source": [
    "top_5_gdp_step1 = df_2014.nlargest(5, 'GDP_Per_Capita')"
   ]
  },
  {
   "cell_type": "code",
   "execution_count": 76,
   "id": "f846b2b3",
   "metadata": {},
   "outputs": [],
   "source": [
    "top_5_gdp = years_df[years_df['Country'].isin(top_5_gdp_step1['Country'])]"
   ]
  },
  {
   "cell_type": "code",
   "execution_count": 77,
   "id": "12324281",
   "metadata": {},
   "outputs": [
    {
     "name": "stdout",
     "output_type": "stream",
     "text": [
      "               Country  Year  GDP_Per_Capita  Internet_Users_Pct\n",
      "561            Bermuda  2014    77361.104881           96.800000\n",
      "566            Bermuda  2009    89961.982744           83.250000\n",
      "571            Bermuda  2004    90195.811033           60.990867\n",
      "3691        Luxembourg  2014   108760.916030           94.670000\n",
      "3696        Luxembourg  2009   104932.811953           87.310000\n",
      "3701        Luxembourg  2004   102708.212547           65.880000\n",
      "3721  Macao SAR, China  2014   156514.133850                 NaN\n",
      "3726  Macao SAR, China  2009    95939.340822                 NaN\n",
      "3731  Macao SAR, China  2004    72944.409424                 NaN\n",
      "5138             Qatar  2014    95578.416973           91.490000\n",
      "5143             Qatar  2009    89954.519993           53.100000\n",
      "5148             Qatar  2004    93748.301216           20.701648\n",
      "5464         Singapore  2014    87808.663157           82.000000\n",
      "5469         Singapore  2009    69466.581746           69.000000\n",
      "5474         Singapore  2004    63901.716368           62.000000\n"
     ]
    }
   ],
   "source": [
    "print(top_5_gdp)"
   ]
  },
  {
   "cell_type": "code",
   "execution_count": 78,
   "id": "07e5a64b",
   "metadata": {},
   "outputs": [
    {
     "data": {
      "text/plain": [
       "<seaborn.axisgrid.FacetGrid at 0x1c9de0ba490>"
      ]
     },
     "execution_count": 78,
     "metadata": {},
     "output_type": "execute_result"
    },
    {
     "data": {
      "image/png": "[encoded data removed]",
      "text/plain": [
       "<Figure size 1080x216 with 5 Axes>"
      ]
     },
     "metadata": {
      "needs_background": "light"
     },
     "output_type": "display_data"
    }
   ],
   "source": [
    "top_5_gdp_sorted = top_5_gdp.sort_values('Year')\n",
    "g = sns.FacetGrid(top_5_gdp_sorted, col='Country')\n",
    "g.map(plt.plot,\"Year\",\"GDP_Per_Capita\")"
   ]
  }
 ],
 "metadata": {
  "kernelspec": {
   "display_name": "Python 3 (ipykernel)",
   "language": "python",
   "name": "python3"
  },
  "language_info": {
   "codemirror_mode": {
    "name": "ipython",
    "version": 3
   },
   "file_extension": ".py",
   "mimetype": "text/x-python",
   "name": "python",
   "nbconvert_exporter": "python",
   "pygments_lexer": "ipython3",
   "version": "3.9.7"
  }
 },
 "nbformat": 4,
 "nbformat_minor": 5
}
